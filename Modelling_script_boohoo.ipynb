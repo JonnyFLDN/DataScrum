{
 "cells": [
  {
   "cell_type": "markdown",
   "metadata": {},
   "source": [
    "# Module Dependencies"
   ]
  },
  {
   "cell_type": "code",
   "execution_count": 26,
   "metadata": {},
   "outputs": [],
   "source": [
    "import pandas as pd \n",
    "import numpy as np\n",
    "import os\n",
    "from sklearn.linear_model import LinearRegression,Lasso\n",
    "from sklearn.ensemble import RandomForestRegressor\n",
    "from sklearn.model_selection import TimeSeriesSplit, GridSearchCV,RandomizedSearchCV\n",
    "from sklearn.preprocessing import normalize\n",
    "import matplotlib.pyplot as plt\n",
    "import xgboost as xgb\n",
    "from sklearn.model_selection import train_test_split"
   ]
  },
  {
   "cell_type": "markdown",
   "metadata": {},
   "source": [
    "## Import Data"
   ]
  },
  {
   "cell_type": "code",
   "execution_count": 2,
   "metadata": {},
   "outputs": [],
   "source": [
    "os.chdir(r\"/Users/jonny/Python_work/DataScrum/Files/Final_files\")\n",
    "dataset = pd.read_csv(\"BOOH_cln.csv\")"
   ]
  },
  {
   "cell_type": "code",
   "execution_count": 3,
   "metadata": {},
   "outputs": [
    {
     "data": {
      "text/plain": [
       "Index(['dates', 'Open_OD', 'High_OD', 'Low_OD', 'Close_OD',\n",
       "       'Adjusted_close_OD', 'Volume_OD', 'Open Price_REF', 'High Price_REF',\n",
       "       'Low Price_REF', 'Close Price_REF', 'Accumulated Volume_REF',\n",
       "       'Open_OD_adj', 'High_OD_adj', 'Low_OD_adj', 'Close_OD_adj',\n",
       "       'Open Price_REF_adj', 'High Price_REF_adj', 'Low Price_REF_adj',\n",
       "       'Close Price_REF_adj', 'desktop_page_views_sum',\n",
       "       'desktop_visit_duration_weighted_mean',\n",
       "       'desktop_bounce_rate_weighted_mean', 'mobile_page_views_sum',\n",
       "       'mobile_visit_duration_weighted_mean',\n",
       "       'mobile_bounce_rate_weighted_mean', 'composite_web_idx',\n",
       "       'mobile_web_idx', 'current_installs', 'downloads', 'usage_time',\n",
       "       'average_sessions_per_user', 'daily_active_users', 'usage_penetration',\n",
       "       'open_rate', 'country_panel', 'company_panel',\n",
       "       'Number of Included Estimates_DPS', 'Mean_DPS', 'High_DPS', 'Low_DPS',\n",
       "       'Number of Included Estimates_EPS', 'Mean_EPS', 'High_EPS', 'Low_EPS',\n",
       "       'Number of Included Estimates_NPR', 'Mean_NPR', 'High_NPR', 'Low_NPR',\n",
       "       'Number of Included Estimates_PTP', 'Mean_PTP', 'High_PTP', 'Low_PTP',\n",
       "       'Number of Included Estimates_REV', 'Mean_REV', 'High_REV', 'Low_REV'],\n",
       "      dtype='object')"
      ]
     },
     "execution_count": 3,
     "metadata": {},
     "output_type": "execute_result"
    }
   ],
   "source": [
    "dataset.columns"
   ]
  },
  {
   "cell_type": "code",
   "execution_count": 4,
   "metadata": {},
   "outputs": [],
   "source": [
    "dataset = dataset.set_index('dates')\n",
    "dataset.index = pd.to_datetime(dataset.index,format='%Y-%m-%d')\n",
    "dataset = dataset.sort_index()"
   ]
  },
  {
   "cell_type": "code",
   "execution_count": 5,
   "metadata": {},
   "outputs": [],
   "source": [
    "traffic_columns = ['desktop_page_views_sum', 'desktop_visit_duration_weighted_mean',\n",
    "                    'desktop_bounce_rate_weighted_mean', 'mobile_page_views_sum',\n",
    "                    'mobile_visit_duration_weighted_mean',\n",
    "                    'mobile_bounce_rate_weighted_mean', 'composite_web_idx',\n",
    "                    'mobile_web_idx', 'current_installs', 'downloads', 'usage_time',\n",
    "                    'average_sessions_per_user', 'daily_active_users', 'usage_penetration',\n",
    "                    'open_rate', 'country_panel', 'company_panel']\n",
    "\n",
    "#dataset[traffic] = dataset[analyst_est].fillna(method='ffill')"
   ]
  },
  {
   "cell_type": "markdown",
   "metadata": {},
   "source": [
    "Create moving average for traffic data columns"
   ]
  },
  {
   "cell_type": "code",
   "execution_count": 6,
   "metadata": {},
   "outputs": [],
   "source": [
    "ma_window = 7\n",
    "dataset[[i+\"_MA7\" for i in traffic_columns]] = dataset[traffic_columns].rolling(window= ma_window).mean()"
   ]
  },
  {
   "cell_type": "code",
   "execution_count": 7,
   "metadata": {},
   "outputs": [],
   "source": [
    "#impute analyst estimates using ffill\n",
    "analyst_est =    ['Number of Included Estimates_DPS', 'Mean_DPS', 'High_DPS', 'Low_DPS',\n",
    "                'Number of Included Estimates_EPS', 'Mean_EPS', 'High_EPS', 'Low_EPS',\n",
    "                'Number of Included Estimates_NPR', 'Mean_NPR', 'High_NPR', 'Low_NPR',\n",
    "                'Number of Included Estimates_PTP', 'Mean_PTP', 'High_PTP', 'Low_PTP',\n",
    "                'Number of Included Estimates_REV', 'Mean_REV', 'High_REV', 'Low_REV']\n",
    "\n",
    "dataset[analyst_est] = dataset[analyst_est].fillna(method='ffill')"
   ]
  },
  {
   "cell_type": "code",
   "execution_count": 8,
   "metadata": {},
   "outputs": [],
   "source": [
    "#dataset = dataset.fillna(method='ffill')\n",
    "dataset = dataset[(dataset.index.dayofweek <5).astype(float) == 1]\n",
    "#check if we have na's between days\n",
    "dataset = dataset[~((dataset['Close Price_REF_adj'].isna())|(dataset['Accumulated Volume_REF'].isna()))]"
   ]
  },
  {
   "cell_type": "markdown",
   "metadata": {},
   "source": [
    "### Target variable\n"
   ]
  },
  {
   "cell_type": "code",
   "execution_count": 9,
   "metadata": {},
   "outputs": [],
   "source": [
    "dataset['log returns'] = dataset['Close Price_REF_adj'].diff()"
   ]
  },
  {
   "cell_type": "markdown",
   "metadata": {},
   "source": [
    "### Feature engineering"
   ]
  },
  {
   "cell_type": "code",
   "execution_count": 10,
   "metadata": {},
   "outputs": [],
   "source": [
    "dataset['close-open'] = dataset['Close Price_REF_adj'] - dataset['Open Price_REF_adj']\n",
    "dataset['high-low'] = dataset['High Price_REF_adj'] - dataset['Low Price_REF_adj']\n",
    "dataset['vol_diff'] = dataset['Accumulated Volume_REF'].diff()\n",
    "dataset['month'] = dataset.index.month\n",
    "dataset['week'] = dataset.index.weekofyear\n",
    "dataset['day'] = dataset.index.dayofyear\n"
   ]
  },
  {
   "cell_type": "code",
   "execution_count": 11,
   "metadata": {},
   "outputs": [],
   "source": [
    "#Technica indictors\n",
    "RSI_window = 14\n",
    "delta = dataset['Close Price_REF_adj'].diff()\n",
    "dUp,dDown = delta.copy(),delta.copy()\n",
    "dUp[dUp<0] = 0\n",
    "dDown[dDown>0] = 0\n",
    "rUp = dUp.rolling(RSI_window).mean()\n",
    "rDown = dDown.rolling(RSI_window).mean().abs()\n",
    "\n",
    "RS= rUp/rDown\n",
    "dataset['RSI_{}D'.format(RSI_window)] = RS"
   ]
  },
  {
   "cell_type": "code",
   "execution_count": 12,
   "metadata": {},
   "outputs": [
    {
     "data": {
      "text/plain": [
       "Index(['Open_OD', 'High_OD', 'Low_OD', 'Close_OD', 'Adjusted_close_OD',\n",
       "       'Volume_OD', 'Open Price_REF', 'High Price_REF', 'Low Price_REF',\n",
       "       'Close Price_REF', 'Accumulated Volume_REF', 'Open_OD_adj',\n",
       "       'High_OD_adj', 'Low_OD_adj', 'Close_OD_adj', 'Open Price_REF_adj',\n",
       "       'High Price_REF_adj', 'Low Price_REF_adj', 'Close Price_REF_adj',\n",
       "       'desktop_page_views_sum', 'desktop_visit_duration_weighted_mean',\n",
       "       'desktop_bounce_rate_weighted_mean', 'mobile_page_views_sum',\n",
       "       'mobile_visit_duration_weighted_mean',\n",
       "       'mobile_bounce_rate_weighted_mean', 'composite_web_idx',\n",
       "       'mobile_web_idx', 'current_installs', 'downloads', 'usage_time',\n",
       "       'average_sessions_per_user', 'daily_active_users', 'usage_penetration',\n",
       "       'open_rate', 'country_panel', 'company_panel',\n",
       "       'Number of Included Estimates_DPS', 'Mean_DPS', 'High_DPS', 'Low_DPS',\n",
       "       'Number of Included Estimates_EPS', 'Mean_EPS', 'High_EPS', 'Low_EPS',\n",
       "       'Number of Included Estimates_NPR', 'Mean_NPR', 'High_NPR', 'Low_NPR',\n",
       "       'Number of Included Estimates_PTP', 'Mean_PTP', 'High_PTP', 'Low_PTP',\n",
       "       'Number of Included Estimates_REV', 'Mean_REV', 'High_REV', 'Low_REV',\n",
       "       'desktop_page_views_sum_MA7',\n",
       "       'desktop_visit_duration_weighted_mean_MA7',\n",
       "       'desktop_bounce_rate_weighted_mean_MA7', 'mobile_page_views_sum_MA7',\n",
       "       'mobile_visit_duration_weighted_mean_MA7',\n",
       "       'mobile_bounce_rate_weighted_mean_MA7', 'composite_web_idx_MA7',\n",
       "       'mobile_web_idx_MA7', 'current_installs_MA7', 'downloads_MA7',\n",
       "       'usage_time_MA7', 'average_sessions_per_user_MA7',\n",
       "       'daily_active_users_MA7', 'usage_penetration_MA7', 'open_rate_MA7',\n",
       "       'country_panel_MA7', 'company_panel_MA7', 'log returns', 'close-open',\n",
       "       'high-low', 'vol_diff', 'month', 'week', 'day', 'RSI_14D'],\n",
       "      dtype='object')"
      ]
     },
     "execution_count": 12,
     "metadata": {},
     "output_type": "execute_result"
    }
   ],
   "source": [
    "dataset.columns"
   ]
  },
  {
   "cell_type": "markdown",
   "metadata": {},
   "source": [
    "##### Clean-up"
   ]
  },
  {
   "cell_type": "code",
   "execution_count": 13,
   "metadata": {},
   "outputs": [],
   "source": [
    "start_date = (~dataset.isna()).all(axis=1).idxmax()\n",
    "end_date = (~dataset.isna()).all(axis=1)[::-1].idxmax()\n",
    "dataset = dataset[(dataset.index>=start_date)&(dataset.index<=end_date)]\n",
    "#filter for weekdays "
   ]
  },
  {
   "cell_type": "markdown",
   "metadata": {},
   "source": [
    "## Modelling Class"
   ]
  },
  {
   "cell_type": "code",
   "execution_count": 28,
   "metadata": {},
   "outputs": [],
   "source": [
    "class company_model(object):\n",
    "    \n",
    "    def __init__(self,X,Y,model,w_size,w_type='expanding',lags=[1],settings=None):\n",
    "        #Assume AR(1) default\n",
    "        #set this to none if data is pre-lagged\n",
    "        if lags:\n",
    "            X = self.add_lags(X,lags)\n",
    "            Y = Y[Y.index.isin(X.index)]\n",
    "            \n",
    "        self.X = X\n",
    "        self.Y = Y\n",
    "        self.model = model\n",
    "        self.w_size = w_size\n",
    "        self.w_type = w_type\n",
    "                \n",
    "        self.forecast_index = self.Y.index[self.w_size:]\n",
    "        self.hyper_param,self.features,self.early_stopping = None,None,None\n",
    "        \n",
    "        if settings:\n",
    "            self.hyper_param = settings.get('hyper_param',None)\n",
    "            self.features = settings.get('features',None)\n",
    "            self.early_stopping = settings.get('early_stopping',None)\n",
    "            \n",
    "            \n",
    "            if self.hyper_param:\n",
    "                self.cv_split = self.hyper_param.get('cv_split',TimeSeriesSplit(2))\n",
    "                \n",
    "            if self.early_stopping:\n",
    "                self.test_size = round(self.w_size*(1-0.8))\n",
    "            \n",
    "        #output variables\n",
    "        self.df_o_pred = pd.DataFrame(index=self.forecast_index)\n",
    "        self.df_RMSE = pd.DataFrame()\n",
    "        self.df_summary = pd.DataFrame()\n",
    "        self.model_features = pd.DataFrame(index=self.forecast_index)\n",
    "        self.best_hparam = pd.DataFrame(index=self.forecast_index)\n",
    "    \n",
    "    @staticmethod\n",
    "    def add_lags(X,lags):\n",
    "        df_X_lagged = pd.DataFrame()\n",
    "        for l in lags:\n",
    "            X_lagged = X.shift(l)\n",
    "            X_lagged.columns = X.columns + \"_T-{}\".format(l)\n",
    "            df_X_lagged = pd.concat([df_X_lagged,X_lagged],axis=1)\n",
    "    \n",
    "        return df_X_lagged.dropna()\n",
    "    \n",
    "    def hparameter_tuning(self,x,y):\n",
    "\n",
    "        optimise = GridSearchCV(self.model,param_grid = self.hyper_param['params']\n",
    "                                ,n_jobs = -1,\n",
    "                                cv=self.cv_split,scoring='neg_mean_squared_error')\\\n",
    "                                .fit(x,y)\n",
    "        \n",
    "        best_params = optimise.best_params_\n",
    "        best_model = self.model.set_params(**best_params)\n",
    "        return best_model,best_params\n",
    "    \n",
    "    \n",
    "    def predict(self,X_test):\n",
    "        return self.model.predict(X_test)\n",
    "        \n",
    "    def fit_predict(self):\n",
    "        best_hparam = None\n",
    "        model_features = None\n",
    "\n",
    "        for i,t in enumerate(self.forecast_index):\n",
    "            \n",
    "            j = 0 if self.w_type =='expanding' else i\n",
    "            X_train,Y_train = X.iloc[j:self.w_size+i].values,Y.iloc[j:self.w_size+i].values\n",
    "            X_test = X.iloc[w_size+i].values\n",
    "            \n",
    "            if self.hyper_param:\n",
    "                self.model,best_param = self.hparameter_tuning(X_train,Y_train.ravel())\n",
    "                best_hparam = [v for k,v in best_param.items()]\n",
    "                \n",
    "            if self.early_stopping:\n",
    "                #split into train and validation\n",
    "                X_train,X_val,Y_train,Y_val = train_test_split(X_train,Y_train,test_size = self.test_size)\n",
    "                self.model = self.model.fit(X_train,Y_train.ravel(),eval_set =[(X_val,Y_val)],**self.early_stopping)\n",
    "            else:\n",
    "                self.model = self.model.fit(X_train,Y_train.ravel())\n",
    " \n",
    "            #self.model.fit(X_train,Y_train.ravel())\n",
    "            insample_prediction = self.predict(X_train)\n",
    "            outsample_prediction = self.predict(X_test.reshape(1,-1))[0]\n",
    "            benchmark_prediction = np.mean(Y_train)\n",
    "            \n",
    "            insample_SSE = ((Y_train - insample_prediction)**2).sum(axis=0)\n",
    "            insample_TSS = ((Y_train - benchmark_prediction)**2).sum(axis=0)\n",
    "            insample_r2 = 1 - insample_SSE/insample_TSS\n",
    "            \n",
    "            if self.features:\n",
    "                model_features = [getattr(self.model,f) for f in self.features]\n",
    "            \n",
    "            yield insample_r2,outsample_prediction,benchmark_prediction,best_hparam,model_features\n",
    "\n",
    "    \n",
    "    def produce_metrics(self):\n",
    "        \n",
    "        insample_r2,outsample_pred,benchmark_pred,best_hparam,model_features = list(zip(*self.fit_predict()))\n",
    "        \n",
    "        self.df_o_pred['model_predictions'] = outsample_pred\n",
    "        self.df_o_pred['benchmark_predictions'] = benchmark_pred\n",
    "        self.df_o_pred['actual'] = self.Y[self.Y.index.isin(self.df_o_pred.index)]        \n",
    "        #sum of squared errors\n",
    "        self.df_RMSE['model_SSE'] = self.Y.subtract(self.df_o_pred['model_predictions']).dropna()**2\n",
    "        #cumulative RMSE\n",
    "        self.df_RMSE['model_cum_RMSE'] = np.sqrt(self.df_RMSE['model_SSE'].expanding().mean())\n",
    "        #sum of squared errors\n",
    "        self.df_RMSE['benchmark_SSE'] = self.Y.subtract(self.df_o_pred['benchmark_predictions']).dropna()**2\n",
    "        # cumulative RMSE\n",
    "        self.df_RMSE['benchmark_cum_RMSE'] =  np.sqrt(self.df_RMSE['benchmark_SSE'].expanding().mean())\n",
    "        \n",
    "        res_dict = {}\n",
    "        res_dict['model_RMSE'] = self.df_RMSE['model_cum_RMSE'].iloc[-1]\n",
    "        res_dict['bench_RMSE'] = self.df_RMSE['benchmark_cum_RMSE'].iloc[-1]\n",
    "        res_dict['model_r2oos'] = 1 - (self.df_RMSE['model_SSE'].sum(axis=0)/self.df_RMSE['benchmark_SSE'].sum(axis=0))\n",
    "        res_dict['model_r2ins'] = np.mean(insample_r2)\n",
    "        \n",
    "        self.model_features['features'],self.best_hparam['parameters'] = list(model_features),list(best_hparam)\n",
    "        \n",
    "        return self.df_o_pred,self.df_RMSE,res_dict\n"
   ]
  },
  {
   "cell_type": "code",
   "execution_count": 15,
   "metadata": {},
   "outputs": [],
   "source": [
    "def horizontal_plot(dplots,dplot_name):\n",
    "    fig,axes = plt.subplots(nrows=1,ncols=len(dplots),figsize=(14,7))\n",
    "    \n",
    "    for i,p in enumerate(dplots):\n",
    "        dates = pd.to_datetime(p.index)\n",
    "        axes[i].plot(dates,p)\n",
    "        axes[i].title.set_text(dplot_name[i])\n",
    "        #axes[i].legend(loc=\"upper right\")\n",
    "    \n",
    "    fig.autofmt_xdate(bottom=0.2, rotation=90, ha='right')\n",
    "    fig.tight_layout()\n",
    "    #fig.legend\n"
   ]
  },
  {
   "cell_type": "markdown",
   "metadata": {},
   "source": [
    "## Dataset 1 - Prediction log returns"
   ]
  },
  {
   "cell_type": "code",
   "execution_count": 35,
   "metadata": {},
   "outputs": [],
   "source": [
    "d1_cols = ['Close Price_REF_adj','Accumulated Volume_REF',\n",
    "           'composite_web_idx_MA7','mobile_web_idx_MA7',\n",
    "           #'usage_time_MA7', 'average_sessions_per_user_MA7',\n",
    "           #'daily_active_users_MA7', 'usage_penetration_MA7', 'open_rate_MA7',\n",
    "           'country_panel_MA7', 'company_panel_MA7',\n",
    "           #'open_rate',\n",
    "           'RSI_14D',\n",
    "           'Number of Included Estimates_EPS','Mean_EPS',\n",
    "           'high-low','vol_diff','day','month','week',\n",
    "\n",
    "\n",
    "          ]\n",
    "\n",
    "d1_cols = ['Close Price_REF_adj','Accumulated Volume_REF',\n",
    "           'composite_web_idx_MA7','mobile_web_idx_MA7',\n",
    "           #'usage_time_MA7', 'average_sessions_per_user_MA7',\n",
    "           #'daily_active_users_MA7', 'usage_penetration_MA7', 'open_rate_MA7',\n",
    "           'country_panel_MA7', 'company_panel_MA7',\n",
    "           'open_rate',\n",
    "           #'RSI_14D',\n",
    "           'Number of Included Estimates_EPS','Mean_EPS',\n",
    "           'high-low','vol_diff','day','month','week'\n",
    "\n",
    "\n",
    "          ]\n",
    "\n",
    "dataset_1 = dataset[d1_cols]\n"
   ]
  },
  {
   "cell_type": "code",
   "execution_count": null,
   "metadata": {},
   "outputs": [],
   "source": []
  },
  {
   "cell_type": "code",
   "execution_count": 38,
   "metadata": {},
   "outputs": [],
   "source": [
    "#settings \n",
    "w_size = 50\n",
    "w_type ='rolling'\n",
    "Y = dataset_1['Close Price_REF_adj']\n",
    "#X = dataset[['Mean_EPS_diff','announcement day']]\n",
    "X = dataset_1[[i for i in dataset_1.columns if i not in Y.name]]\n",
    "#X = pd.DataFrame(normalize(X,axis=0),index=X.index,columns=X.columns)"
   ]
  },
  {
   "cell_type": "code",
   "execution_count": null,
   "metadata": {},
   "outputs": [],
   "source": []
  },
  {
   "cell_type": "markdown",
   "metadata": {},
   "source": [
    "#### Linear regression"
   ]
  },
  {
   "cell_type": "code",
   "execution_count": 39,
   "metadata": {},
   "outputs": [
    {
     "name": "stdout",
     "output_type": "stream",
     "text": [
      "\u001b[1mIn-sample R^2 is 0.8767411010808464\u001b[1m\n",
      "out-of-sample R^2 is -125041366492458.06\n"
     ]
    }
   ],
   "source": [
    "model = LinearRegression(normalize=True)\n",
    "\n",
    "linear_reg = company_model(X,Y,model,w_size,w_type,lags=[1])\n",
    "predictions,RMSE_stats,summary = linear_reg.produce_metrics() \n",
    "\n",
    "print(\"\\033[1mIn-sample R^2 is {}\\033[1m\".format(summary['model_r2ins']))\n",
    "print(\"out-of-sample R^2 is {}\".format(summary['model_r2oos']))"
   ]
  },
  {
   "cell_type": "code",
   "execution_count": 43,
   "metadata": {},
   "outputs": [],
   "source": [
    "predictions.to_clipboard()"
   ]
  },
  {
   "cell_type": "code",
   "execution_count": 24,
   "metadata": {},
   "outputs": [
    {
     "data": {
      "text/plain": [
       "<matplotlib.axes._subplots.AxesSubplot at 0x1a1d37b198>"
      ]
     },
     "execution_count": 24,
     "metadata": {},
     "output_type": "execute_result"
    },
    {
     "data": {
      "image/png": "[encoded data removed]",
      "text/plain": [
       "<Figure size 1008x504 with 1 Axes>"
      ]
     },
     "metadata": {
      "needs_background": "light"
     },
     "output_type": "display_data"
    },
    {
     "data": {
      "image/png": "[encoded data removed]",
      "text/plain": [
       "<Figure size 1008x504 with 1 Axes>"
      ]
     },
     "metadata": {
      "needs_background": "light"
     },
     "output_type": "display_data"
    }
   ],
   "source": [
    "predictions[['actual','model_predictions']].plot(legend=True,figsize=(14,7))\n",
    "RMSE_stats[['model_cum_RMSE','benchmark_cum_RMSE']].plot(legend=True,figsize=(14,7))"
   ]
  },
  {
   "cell_type": "markdown",
   "metadata": {},
   "source": [
    "#### XGBoost"
   ]
  },
  {
   "cell_type": "code",
   "execution_count": null,
   "metadata": {},
   "outputs": [],
   "source": [
    "settings = {\"hyper_param\":{\"cv_split\":TimeSeriesSplit(n_splits=2),\n",
    "                           \"params\":{'min_samples_leaf':np.linspace(1,15,4),'max_depth':list(range(6,12))}}}\n",
    "\n",
    "settings.update({\"features\":[\"feature_importances_\"]})\n",
    "\n",
    "settings.update({\"early_stopping\":{\"early_stopping_rounds\":10,\"eval_metric\":'rmse','verbose':False}})\n",
    "model = xgb.XGBRegressor(learning_rate=0.05,n_estimators=300)\n",
    "xgb_reg = company_model(X,Y,model,w_size,w_type,lags=[1],settings=settings)\n",
    "predictions,RMSE_stats,summary = xgb_reg.produce_metrics() "
   ]
  },
  {
   "cell_type": "code",
   "execution_count": null,
   "metadata": {},
   "outputs": [],
   "source": [
    "print(\"\\033[1mIn-sample R^2 is {}\\033[1m\".format(summary['model_r2ins']))\n",
    "print(\"out-of-sample R^2 is {}\".format(summary['model_r2oos']))"
   ]
  },
  {
   "cell_type": "code",
   "execution_count": null,
   "metadata": {},
   "outputs": [],
   "source": [
    "predictions"
   ]
  },
  {
   "cell_type": "code",
   "execution_count": null,
   "metadata": {},
   "outputs": [],
   "source": [
    "predictions[['actual','model_predictions']].plot(legend=True,figsize=(14,7))\n",
    "RMSE_stats[['model_cum_RMSE','benchmark_cum_RMSE']].plot(legend=True,figsize=(14,7))\n"
   ]
  },
  {
   "cell_type": "code",
   "execution_count": null,
   "metadata": {},
   "outputs": [],
   "source": [
    "unstacked_features = np.vstack(xgb_reg.model_features.apply(lambda x:list(x[0][0]),axis=1))\n",
    "best_features = pd.DataFrame(unstacked_features,columns = xgb_reg.X.columns)"
   ]
  },
  {
   "cell_type": "code",
   "execution_count": null,
   "metadata": {},
   "outputs": [],
   "source": [
    "best_features.rolling(10).mean().plot(legend=True,figsize=(14,7))"
   ]
  },
  {
   "cell_type": "code",
   "execution_count": null,
   "metadata": {},
   "outputs": [],
   "source": [
    "best_features.mean(axis=0).sort_values(ascending=False)"
   ]
  },
  {
   "cell_type": "code",
   "execution_count": null,
   "metadata": {},
   "outputs": [],
   "source": [
    "xgb_reg.best_hparam['parameters']"
   ]
  },
  {
   "cell_type": "code",
   "execution_count": null,
   "metadata": {},
   "outputs": [],
   "source": [
    "best_features['mobile_web_idx_MA7_T-1'].plot(legend=True,figsize=(14,7))"
   ]
  },
  {
   "cell_type": "markdown",
   "metadata": {},
   "source": [
    "#### Random Forest"
   ]
  },
  {
   "cell_type": "code",
   "execution_count": null,
   "metadata": {},
   "outputs": [],
   "source": [
    "settings = {\"features\":[\"feature_importances_\"]}\n",
    "model = RandomForestRegressor(n_estimators=100)\n",
    "\n",
    "rf_reg = company_model(X,Y,model,w_size,w_type,lags=[1],settings = settings) \n",
    "predictions,RMSE_stats,summary = rf_reg.produce_metrics() "
   ]
  },
  {
   "cell_type": "code",
   "execution_count": null,
   "metadata": {},
   "outputs": [],
   "source": [
    "print(\"\\033[1mIn-sample R^2 is {}\\033[1m\".format(summary['model_r2ins']))\n",
    "print(\"out-of-sample R^2 is {}\".format(summary['model_r2oos']))"
   ]
  },
  {
   "cell_type": "code",
   "execution_count": null,
   "metadata": {},
   "outputs": [],
   "source": [
    "predictions[['actual','model_predictions']].plot(legend=True,figsize=(14,7))\n",
    "RMSE_stats[['model_cum_RMSE','benchmark_cum_RMSE']].plot(legend=True,figsize=(14,7))"
   ]
  },
  {
   "cell_type": "code",
   "execution_count": null,
   "metadata": {},
   "outputs": [],
   "source": [
    "import itertools\n",
    "\n",
    "abc = pd.DataFrame(rf_reg.model_features,columns = rf_reg.X.columns)\n",
    "#pd.DataFrame.from_records(rf_reg.model_features.apply(lambda x:list(itertools.chain.from_iterable(x))))\n",
    "#rf_reg.model_features.apply(lambda x:list(itertools.chain.from_iterable(x))).apply(pd.Series)\n",
    "\n",
    "#pd.DataFrame([[tuple(itertools.chain.from_iterable(i)) for t,i in rf_reg.model_features.iterrows()]]).apply(pd.Series)"
   ]
  },
  {
   "cell_type": "code",
   "execution_count": null,
   "metadata": {},
   "outputs": [],
   "source": [
    "abc = [tuple(itertools.chain.from_iterable(i)) for t,i in rf_reg.model_features.iterrows()]"
   ]
  },
  {
   "cell_type": "code",
   "execution_count": null,
   "metadata": {},
   "outputs": [],
   "source": [
    "pd.DataFrame(abc)"
   ]
  },
  {
   "cell_type": "markdown",
   "metadata": {},
   "source": [
    "## EDA"
   ]
  },
  {
   "cell_type": "code",
   "execution_count": null,
   "metadata": {},
   "outputs": [],
   "source": [
    "dplots = [dataset['Close'],dataset['daily_returns'],dataset['Mean_REV_diff']]\n",
    "dplot_name  = [\"Close price\",\"log returns\",\"Mean_REV_diff\"]\n",
    "horizontal_plot(dplots = dplots,dplot_name=dplot_name)"
   ]
  },
  {
   "cell_type": "markdown",
   "metadata": {},
   "source": [
    "## Q1. Does Mean_EPS_diff predict daily returns? "
   ]
  },
  {
   "cell_type": "code",
   "execution_count": null,
   "metadata": {},
   "outputs": [],
   "source": [
    "#find the biggest moves of every year\n",
    "dataset['year'] = dataset.index.year\n",
    "dataset.groupby('year')['Mean_EPS_diff'].idxmax()"
   ]
  },
  {
   "cell_type": "code",
   "execution_count": null,
   "metadata": {},
   "outputs": [],
   "source": [
    "dataset.index[(dataset.index.day.isin([17,18,19])&(dataset.index.month.isin([7,10,12])))]"
   ]
  },
  {
   "cell_type": "code",
   "execution_count": null,
   "metadata": {},
   "outputs": [],
   "source": [
    "dataset['announcement day'] = (dataset.index.day.isin([17,18,19])&(dataset.index.month.isin([7,10,12])))"
   ]
  },
  {
   "cell_type": "code",
   "execution_count": null,
   "metadata": {},
   "outputs": [],
   "source": [
    "dataset['Mean_EPS_diff_adj'] = dataset['Mean_EPS_diff']*(~dataset['announcement day'])"
   ]
  },
  {
   "cell_type": "code",
   "execution_count": null,
   "metadata": {},
   "outputs": [],
   "source": [
    "dataset['Mean_EPS_diff_adj'].idxmin()"
   ]
  },
  {
   "cell_type": "code",
   "execution_count": null,
   "metadata": {},
   "outputs": [],
   "source": [
    "w_size = 50\n",
    "w_type ='expanding'\n",
    "model = LinearRegression(normalize=True)\n",
    "Y = dataset['daily_returns']\n",
    "#X = dataset[['Mean_EPS_diff','announcement day']]\n",
    "X = dataset[['Mean_EPS_diff_adj']]\n",
    "        \n",
    "linear_reg = company_model(X,Y,model,w_size,w_type,lags=[1,2,3])\n",
    "predictions,RMSE_stats,summary = linear_reg.produce_metrics() \n",
    "\n",
    "print(\"\\033[1mIn-sample R^2 is {}\\033[1m\".format(summary['model_r2ins']))\n",
    "print(\"out-of-sample R^2 is {}\".format(summary['model_r2oos']))"
   ]
  },
  {
   "cell_type": "code",
   "execution_count": null,
   "metadata": {},
   "outputs": [],
   "source": [
    "dplots = [predictions[['actual','model_predictions']],RMSE_stats[['model_cum_RMSE','benchmark_cum_RMSE']]]\n",
    "dplot_name  = [\"actual vs prediction\",\"model vs mean RMSE\"]\n",
    "horizontal_plot(dplots = dplots,dplot_name=dplot_name)"
   ]
  },
  {
   "cell_type": "markdown",
   "metadata": {},
   "source": [
    "## Q2. Does Web/App Traffic predict Mean_EPS? "
   ]
  },
  {
   "cell_type": "markdown",
   "metadata": {},
   "source": [
    "### Linear Regression"
   ]
  },
  {
   "cell_type": "code",
   "execution_count": null,
   "metadata": {},
   "outputs": [],
   "source": [
    "w_size = 50\n",
    "w_type ='expanding'\n",
    "model = LinearRegression(normalize=True)\n",
    "Y = dataset['Mean_EPS_diff_adj']\n",
    "X = dataset[alt_columns]\n",
    "        \n",
    "linear_reg = company_model(X,Y,model,w_size,w_type,lags=[1])\n",
    "predictions,RMSE_stats,summary = linear_reg.produce_metrics() \n",
    "\n",
    "print(\"\\033[1mIn-sample R^2 is {}\\033[1m\".format(summary['model_r2ins']))\n",
    "print(\"out-of-sample R^2 is {}\".format(summary['model_r2oos']))"
   ]
  },
  {
   "cell_type": "code",
   "execution_count": null,
   "metadata": {},
   "outputs": [],
   "source": [
    "dplots = [predictions[['actual','model_predictions']],RMSE_stats[['benchmark_cum_RMSE','model_cum_RMSE']]]\n",
    "dplot_name  = [\"linear actual vs prediction\",\" linear model vs mean RMSE\"]\n",
    "horizontal_plot(dplots = dplots,dplot_name=dplot_name)"
   ]
  },
  {
   "cell_type": "markdown",
   "metadata": {},
   "source": [
    "### Lasso Regression "
   ]
  },
  {
   "cell_type": "code",
   "execution_count": null,
   "metadata": {},
   "outputs": [],
   "source": [
    "w_size = 50\n",
    "w_type ='rolling'\n",
    "model = Lasso(normalize=True)\n",
    "Y = dataset['Mean_EPS_diff_adj']\n",
    "X = dataset[alt_columns]\n",
    "#np.linspace(0.0005,0.002,4)\n",
    "cv_split = TimeSeriesSplit(n_splits=4)\n",
    "settings = {\"hyper_param\":{\"cv_split\":cv_split,\"params\":{\"alpha\":np.linspace(0.0005,0.002,4)}}}\n",
    "        \n",
    "lasso_reg = company_model(X,Y,model,w_size,w_type,lags=[1],settings=settings)\n",
    "predictions,RMSE_stats,summary = lasso_reg.produce_metrics()"
   ]
  },
  {
   "cell_type": "code",
   "execution_count": null,
   "metadata": {},
   "outputs": [],
   "source": [
    "print(\"\\033[1mIn-sample R^2 is {}\\033[1m\".format(summary['model_r2ins']))\n",
    "print(\"out-of-sample R^2 is {}\".format(summary['model_r2oos']))"
   ]
  },
  {
   "cell_type": "code",
   "execution_count": null,
   "metadata": {},
   "outputs": [],
   "source": [
    "dplots = [predictions[['actual','model_predictions']],RMSE_stats[['benchmark_cum_RMSE','model_cum_RMSE']],lasso_reg.best_hparam['parameters'].apply(pd.Series)]\n",
    "dplot_name  = [\"lasso actual vs prediction\",\"lasso model vs mean RMSE\",\"Lasso hyper-parameters\"]\n",
    "horizontal_plot(dplots = dplots,dplot_name=dplot_name)"
   ]
  },
  {
   "cell_type": "markdown",
   "metadata": {},
   "source": [
    "### Self-Selection Regression"
   ]
  },
  {
   "cell_type": "code",
   "execution_count": null,
   "metadata": {},
   "outputs": [],
   "source": [
    "w_size = 50\n",
    "w_type ='rolling'\n",
    "model = LinearRegression(normalize=True)\n",
    "Y = dataset['Mean_EPS']\n",
    "X = dataset[['current_installs','downloads','usage_time','average_sessions_per_user','daily_active_users','usage_penetration','open_rate']]\n",
    "        \n",
    "linear_reg = company_model(X,Y,model,w_size,w_type,lags=[1])\n",
    "predictions,RMSE_stats,summary = linear_reg.produce_metrics() \n",
    "\n",
    "print(\"\\033[1mIn-sample R^2 is {}\\033[1m\".format(summary['model_r2ins']))\n",
    "print(\"out-of-sample R^2 is {}\".format(summary['model_r2oos']))"
   ]
  },
  {
   "cell_type": "markdown",
   "metadata": {},
   "source": [
    "### Binary/Classification "
   ]
  },
  {
   "cell_type": "code",
   "execution_count": null,
   "metadata": {},
   "outputs": [],
   "source": []
  },
  {
   "cell_type": "markdown",
   "metadata": {},
   "source": [
    "## Predicted EPS vs Estimated EPS"
   ]
  },
  {
   "cell_type": "code",
   "execution_count": null,
   "metadata": {},
   "outputs": [],
   "source": [
    "lasso_EPS_model,lasso_EPS_est = lasso_reg.df_o_pred['model_predictions'],lasso_reg.df_o_pred['actual']\n",
    "lasso_EPS_diff = lasso_EPS_est - lasso_EPS_model\n"
   ]
  },
  {
   "cell_type": "code",
   "execution_count": null,
   "metadata": {},
   "outputs": [],
   "source": [
    "lasso_EPS_diff.plot()"
   ]
  },
  {
   "cell_type": "code",
   "execution_count": null,
   "metadata": {},
   "outputs": [],
   "source": [
    "lasso_desc = lasso_EPS_diff.describe()\n",
    "lasso_desc"
   ]
  },
  {
   "cell_type": "code",
   "execution_count": null,
   "metadata": {},
   "outputs": [],
   "source": [
    "Z_scores = (lasso_desc - lasso_desc['mean'])/lasso_desc['std']"
   ]
  },
  {
   "cell_type": "code",
   "execution_count": null,
   "metadata": {},
   "outputs": [],
   "source": [
    "Z_scores"
   ]
  },
  {
   "cell_type": "code",
   "execution_count": null,
   "metadata": {},
   "outputs": [],
   "source": [
    "w_size = 50\n",
    "w_type ='rolling'\n",
    "model = LinearRegression(normalize=True)\n",
    "Y = dataset['Mean_EPS']\n",
    "X = dataset[['current_installs','downloads','usage_time','average_sessions_per_user','daily_active_users','usage_penetration','open_rate']]\n",
    "        \n",
    "linear_reg = company_model(X,Y,model,w_size,w_type,lags=[1])\n",
    "predictions,RMSE_stats,summary = linear_reg.produce_metrics() "
   ]
  },
  {
   "cell_type": "markdown",
   "metadata": {},
   "source": [
    "# Does website traffic explain EPS?"
   ]
  },
  {
   "cell_type": "code",
   "execution_count": null,
   "metadata": {},
   "outputs": [],
   "source": [
    "dataset[['total_visits','Mean_REV']].plot()"
   ]
  },
  {
   "cell_type": "code",
   "execution_count": null,
   "metadata": {},
   "outputs": [],
   "source": [
    "web_cols = ['desktop_visits','desktop_pages_per_visit','desktop_visit_duration','desktop_bounce_rate','desktop_page_views']\n",
    "app_cols = list(set(alt_columns).difference(web_cols))"
   ]
  },
  {
   "cell_type": "code",
   "execution_count": null,
   "metadata": {},
   "outputs": [],
   "source": [
    "def horizontal_plot(dplots,dplot_name):\n",
    "    fig,axes = plt.subplots(nrows=len(dplots),ncols=1,figsize=(15,12))\n",
    "    \n",
    "    for i,p in enumerate(dplots):\n",
    "        dates = pd.to_datetime(p.index)\n",
    "        axes[i].plot(dates,p)\n",
    "        axes[i].title.set_text(dplot_name[i])\n",
    "        #axes[i].legend(loc=\"upper right\")\n",
    "    \n",
    "    fig.autofmt_xdate(bottom=0.2, rotation=90, ha='right')\n",
    "    fig.tight_layout()\n",
    "    fig.legend"
   ]
  },
  {
   "cell_type": "code",
   "execution_count": null,
   "metadata": {},
   "outputs": [],
   "source": [
    "dplots = [dataset[['Mean_EPS',w]] for w in web_cols]\n",
    "dplot_name = [\"Mean_EPS vs {}\".format(w) for w in web_cols]\n",
    "    "
   ]
  },
  {
   "cell_type": "code",
   "execution_count": null,
   "metadata": {},
   "outputs": [],
   "source": [
    "horizontal_plot(dplots,dplot_name)"
   ]
  },
  {
   "cell_type": "code",
   "execution_count": null,
   "metadata": {},
   "outputs": [],
   "source": [
    "def horizontal_plot(dplots,dplot_name):\n",
    "    fig,axes = plt.subplots(nrows=len(dplots),ncols=1,figsize=(15,15))\n",
    "    \n",
    "    for i,p in enumerate(dplots):\n",
    "        dates = pd.to_datetime(p.index)\n",
    "        axes2 = axes[i].twinx()\n",
    "        axes[i].plot(dates,p.iloc[:,0],color='b')\n",
    "        axes[i].set_ylabel(p.columns[0])\n",
    "        axes[i].title.set_text(dplot_name[i])\n",
    "        axes2.plot(dates,p.iloc[:,1],color = 'r')\n",
    "        axes2.set_ylabel(p.columns[1])\n",
    "        #axes[i].legend(loc=\"upper right\")\n",
    "    \n",
    "    fig.autofmt_xdate(bottom=0.2, rotation=90, ha='right')\n",
    "    fig.tight_layout()\n",
    "    fig.legend"
   ]
  },
  {
   "cell_type": "code",
   "execution_count": null,
   "metadata": {},
   "outputs": [],
   "source": [
    "dplots = [dataset[['Mean_REV',w]] for w in ['total_visits']]\n",
    "dplot_name = [\"Mean_EPS vs {}\".format(w) for w in ['total_visits']]\n",
    "horizontal_plot(dplots,dplot_name)"
   ]
  },
  {
   "cell_type": "code",
   "execution_count": null,
   "metadata": {},
   "outputs": [],
   "source": [
    "fig,axes = plt.subplots(nrows=2,ncols=1,figsize=(14,7))\n",
    "dates = pd.to_datetime(dataset.index)\n",
    "axes2 = axes[0].twinx()\n",
    "axes[0].plot(dates,dataset['Mean_REV'],color = 'b')\n",
    "axes[0].set_xlabel('time (s)')\n",
    "axes[0].set_ylabel('exp')\n",
    "axes2.plot(dates,dataset['total_visits'],color = 'r')\n",
    "axes2.set_ylabel('views')\n",
    "fig.autofmt_xdate(bottom=0.2, rotation=90, ha='right')\n",
    "fig.tight_layout()\n",
    "fig.legend\n",
    "\n"
   ]
  },
  {
   "cell_type": "code",
   "execution_count": null,
   "metadata": {},
   "outputs": [],
   "source": [
    "def horizontal_plot(dplots,dplot_name):\n",
    "    fig,axes = plt.subplots(nrows=1,ncols=len(dplots),figsize=(14,7))\n",
    "    \n",
    "    for i,p in enumerate(dplots):\n",
    "        dates = pd.to_datetime(p.index)\n",
    "        axes[i].plot(dates,p)\n",
    "        axes[i].title.set_text(dplot_name[i])\n",
    "        #axes[i].legend(loc=\"upper right\")\n",
    "    \n",
    "    fig.autofmt_xdate(bottom=0.2, rotation=90, ha='right')\n",
    "    fig.tight_layout()\n",
    "    fig.legend"
   ]
  }
 ],
 "metadata": {
  "kernelspec": {
   "display_name": "Python 3",
   "language": "python",
   "name": "python3"
  },
  "language_info": {
   "codemirror_mode": {
    "name": "ipython",
    "version": 3
   },
   "file_extension": ".py",
   "mimetype": "text/x-python",
   "name": "python",
   "nbconvert_exporter": "python",
   "pygments_lexer": "ipython3",
   "version": "3.6.7"
  },
  "varInspector": {
   "cols": {
    "lenName": 16,
    "lenType": 16,
    "lenVar": 40
   },
   "kernels_config": {
    "python": {
     "delete_cmd_postfix": "",
     "delete_cmd_prefix": "del ",
     "library": "var_list.py",
     "varRefreshCmd": "print(var_dic_list())"
    },
    "r": {
     "delete_cmd_postfix": ") ",
     "delete_cmd_prefix": "rm(",
     "library": "var_list.r",
     "varRefreshCmd": "cat(var_dic_list()) "
    }
   },
   "types_to_exclude": [
    "module",
    "function",
    "builtin_function_or_method",
    "instance",
    "_Feature"
   ],
   "window_display": false
  }
 },
 "nbformat": 4,
 "nbformat_minor": 2
}
