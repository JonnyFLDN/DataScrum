{
 "cells": [
  {
   "cell_type": "markdown",
   "metadata": {},
   "source": [
    "### Merchant Extraction"
   ]
  },
  {
   "cell_type": "code",
   "execution_count": null,
   "metadata": {},
   "outputs": [],
   "source": [
    "'''\n",
    "\n",
    "\n",
    "Refinitiv\tweb\tapp\tprice\n",
    "ASOS.L\tASC LN\tASC LN\tASOMY\n",
    "BKNG.O\tBKNG US\tBKNG US\tBKNG\n",
    "BOOH.L\tBOO LN\tBOO LN\tBHHOF\n",
    "EBAY.O\tEBAY US\tEBAY US\tEBAY\n",
    "ETSY.O\tETSY US\tETSY US\tETSY\n",
    "GPS\tGPS US\tGPS US\tGPS\n",
    "HD\tHD US\tHD US\tHD\n",
    "JWN\tJWN US\tJWN US\tJWN\n",
    "TJX\tTJX US\tTJX US\tJTJX\n",
    "URBN.O\tURBN US\tURBN US\tURBN\n",
    "W\tW US\tW US\tW\n",
    "ZALG.DE\tZAL GR\tZAL GR\tZLNDY\n",
    "\n",
    "\n",
    "\n",
    "\n",
    "BOOH.L\tBOO LN\tBOO LN\tBHHOF\n",
    "'''"
   ]
  },
  {
   "cell_type": "code",
   "execution_count": 1,
   "metadata": {},
   "outputs": [],
   "source": [
    "import os\n",
    "import pandas as pd\n",
    "import matplotlib.pyplot as plt\n",
    "import numpy as np \n",
    "os.chdir(r\"/Users/jonny/Python_work/DataScrum/Files\")\n",
    "#This are the file addresses \n",
    "file_dict = {\"ASOS PLC\":\n",
    "                         {'web_str':\"ASC LN\",\n",
    "                          \"od_pricevol_str\":\"ASOMY\",\n",
    "                          \"ref_pricevol_str\":\"ASOS.L\",\n",
    "                          \"fundamental_str\":\"ASOS PLC\",\n",
    "                          \"estimate_str\":\"ASOS.L\"},\n",
    "             \n",
    "                \"URBN\":{'web_str':\"URBN US\",\n",
    "                        'od_pricevol_str':\"URBN\",\n",
    "                       'ref_pricevol_str':\"URBN.O\",\n",
    "                       'fundamental_str':\"URBN\",\n",
    "                       \"estimate_str\":\"URBN.O\"},\n",
    "             \"BOOH\":{'web_str':\"BOO LN\",\n",
    "                        'od_pricevol_str':\"BHHOF\",\n",
    "                       'ref_pricevol_str':\"BOOH.L\",\n",
    "                       'fundamental_str':\"\",\n",
    "                       \"estimate_str\":\"BOOH.L\"},\n",
    "            \n",
    "            \n",
    "            \n",
    "            \n",
    "            }\n",
    "\n"
   ]
  },
  {
   "cell_type": "code",
   "execution_count": 2,
   "metadata": {},
   "outputs": [],
   "source": [
    "t_key = \"BOOH\"\n",
    "ticker = file_dict[t_key]\n",
    "\n",
    "#IMPORT FILES\n",
    "ticker_map = pd.ExcelFile(\"SimilarWeb Mapped Tickers (Jul-2019).xlsx\")\n",
    "webdata = pd.read_csv(\"websites_19_07.csv\")\n",
    "appdata = pd.read_csv(r\"apps_19_7.csv\")\n",
    "\n",
    "od_price_vol = pd.read_csv(\"{}.csv\".format(ticker['od_pricevol_str']))\n",
    "ref_price_vol = pd.read_csv(\"AdjPrices1.csv\")\n",
    "#fundamentals = pd.read_csv(\"fundamentals_{}.csv\".format(ticker['fundamental_str']))[['date','totalRevenue','costOfRevenue']]\n",
    "estimates = pd.read_csv(\"ESTIMATESACTUALS.csv\")"
   ]
  },
  {
   "cell_type": "markdown",
   "metadata": {},
   "source": [
    "## Pricing data - Can we impute missing data?"
   ]
  },
  {
   "cell_type": "code",
   "execution_count": 3,
   "metadata": {},
   "outputs": [
    {
     "data": {
      "text/html": [
       "<div>\n",
       "<style scoped>\n",
       "    .dataframe tbody tr th:only-of-type {\n",
       "        vertical-align: middle;\n",
       "    }\n",
       "\n",
       "    .dataframe tbody tr th {\n",
       "        vertical-align: top;\n",
       "    }\n",
       "\n",
       "    .dataframe thead th {\n",
       "        text-align: right;\n",
       "    }\n",
       "</style>\n",
       "<table border=\"1\" class=\"dataframe\">\n",
       "  <thead>\n",
       "    <tr style=\"text-align: right;\">\n",
       "      <th></th>\n",
       "      <th>Instrument</th>\n",
       "      <th>Date</th>\n",
       "      <th>Open Price</th>\n",
       "      <th>High Price</th>\n",
       "      <th>Low Price</th>\n",
       "      <th>Close Price</th>\n",
       "      <th>Accumulated Volume</th>\n",
       "    </tr>\n",
       "  </thead>\n",
       "  <tbody>\n",
       "    <tr>\n",
       "      <th>0</th>\n",
       "      <td>ASOS.L</td>\n",
       "      <td>2019-08-01T00:00:00Z</td>\n",
       "      <td>2600.0</td>\n",
       "      <td>2733.0</td>\n",
       "      <td>2578.0</td>\n",
       "      <td>2688.0</td>\n",
       "      <td>596466.0</td>\n",
       "    </tr>\n",
       "    <tr>\n",
       "      <th>1</th>\n",
       "      <td>ASOS.L</td>\n",
       "      <td>2019-07-31T00:00:00Z</td>\n",
       "      <td>2565.0</td>\n",
       "      <td>2650.0</td>\n",
       "      <td>2541.0</td>\n",
       "      <td>2606.0</td>\n",
       "      <td>411007.0</td>\n",
       "    </tr>\n",
       "    <tr>\n",
       "      <th>2</th>\n",
       "      <td>ASOS.L</td>\n",
       "      <td>2019-07-30T00:00:00Z</td>\n",
       "      <td>2469.0</td>\n",
       "      <td>2565.0</td>\n",
       "      <td>2469.0</td>\n",
       "      <td>2555.0</td>\n",
       "      <td>700815.0</td>\n",
       "    </tr>\n",
       "    <tr>\n",
       "      <th>3</th>\n",
       "      <td>ASOS.L</td>\n",
       "      <td>2019-07-29T00:00:00Z</td>\n",
       "      <td>2447.0</td>\n",
       "      <td>2572.0</td>\n",
       "      <td>2423.0</td>\n",
       "      <td>2559.0</td>\n",
       "      <td>732829.0</td>\n",
       "    </tr>\n",
       "    <tr>\n",
       "      <th>4</th>\n",
       "      <td>ASOS.L</td>\n",
       "      <td>2019-07-26T00:00:00Z</td>\n",
       "      <td>2440.0</td>\n",
       "      <td>2479.0</td>\n",
       "      <td>2409.0</td>\n",
       "      <td>2465.0</td>\n",
       "      <td>635790.0</td>\n",
       "    </tr>\n",
       "  </tbody>\n",
       "</table>\n",
       "</div>"
      ],
      "text/plain": [
       "  Instrument                  Date  Open Price  High Price  Low Price  \\\n",
       "0     ASOS.L  2019-08-01T00:00:00Z      2600.0      2733.0     2578.0   \n",
       "1     ASOS.L  2019-07-31T00:00:00Z      2565.0      2650.0     2541.0   \n",
       "2     ASOS.L  2019-07-30T00:00:00Z      2469.0      2565.0     2469.0   \n",
       "3     ASOS.L  2019-07-29T00:00:00Z      2447.0      2572.0     2423.0   \n",
       "4     ASOS.L  2019-07-26T00:00:00Z      2440.0      2479.0     2409.0   \n",
       "\n",
       "   Close Price  Accumulated Volume  \n",
       "0       2688.0            596466.0  \n",
       "1       2606.0            411007.0  \n",
       "2       2555.0            700815.0  \n",
       "3       2559.0            732829.0  \n",
       "4       2465.0            635790.0  "
      ]
     },
     "execution_count": 3,
     "metadata": {},
     "output_type": "execute_result"
    }
   ],
   "source": [
    "ref_price_vol.head()"
   ]
  },
  {
   "cell_type": "code",
   "execution_count": 4,
   "metadata": {},
   "outputs": [],
   "source": [
    "#there's an error in the Open Data file\n",
    "#od_price_vol =  od_price_vol[od_price_vol['Date'].str.contains('/')]\n",
    "ref_price_vol =  ref_price_vol[ref_price_vol['Instrument'] == ticker[\"ref_pricevol_str\"]][[i for i in ref_price_vol.columns if not i =='Instrument']]"
   ]
  },
  {
   "cell_type": "code",
   "execution_count": 5,
   "metadata": {},
   "outputs": [],
   "source": [
    "#Adjust dates \n",
    "try:\n",
    "    od_price_vol['Date'] = pd.to_datetime(od_price_vol['Date'],format='%Y-%m-%d')\n",
    "except ValueError:\n",
    "    od_price_vol = od_price_vol.iloc[:-1]\n",
    "    od_price_vol['Date'] = pd.to_datetime(od_price_vol['Date'],format='%Y-%m-%d')\n",
    "\n",
    "    \n",
    "    \n",
    "ref_price_vol['Date'] = pd.to_datetime(ref_price_vol['Date'],format='%Y/%m/%d').dt.date  "
   ]
  },
  {
   "cell_type": "markdown",
   "metadata": {},
   "source": [
    "### How do the price datasets differ? "
   ]
  },
  {
   "cell_type": "code",
   "execution_count": 6,
   "metadata": {},
   "outputs": [
    {
     "data": {
      "text/plain": [
       "Index(['Date', 'Open', 'High', 'Low', 'Close', 'Adjusted_close', 'Volume'], dtype='object')"
      ]
     },
     "execution_count": 6,
     "metadata": {},
     "output_type": "execute_result"
    }
   ],
   "source": [
    "od_price_vol.columns"
   ]
  },
  {
   "cell_type": "code",
   "execution_count": 7,
   "metadata": {},
   "outputs": [
    {
     "data": {
      "text/plain": [
       "Index(['Date', 'Open Price', 'High Price', 'Low Price', 'Close Price',\n",
       "       'Accumulated Volume'],\n",
       "      dtype='object')"
      ]
     },
     "execution_count": 7,
     "metadata": {},
     "output_type": "execute_result"
    }
   ],
   "source": [
    "ref_price_vol.columns"
   ]
  },
  {
   "cell_type": "code",
   "execution_count": 8,
   "metadata": {},
   "outputs": [],
   "source": [
    "joint_prices = od_price_vol.set_index('Date').rename(columns = {col:col+\"_OD\" for col in od_price_vol})\n",
    "joint_prices = joint_prices.join(ref_price_vol.set_index('Date').rename(columns = {col:col+\"_REF\" for col in ref_price_vol}),how='outer')"
   ]
  },
  {
   "cell_type": "code",
   "execution_count": 9,
   "metadata": {},
   "outputs": [
    {
     "data": {
      "text/plain": [
       "Text(0, 0.5, 'Refinitiv Close price')"
      ]
     },
     "execution_count": 9,
     "metadata": {},
     "output_type": "execute_result"
    },
    {
     "data": {
      "image/png": "[encoded data removed]",
      "text/plain": [
       "<Figure size 432x288 with 2 Axes>"
      ]
     },
     "metadata": {
      "needs_background": "light"
     },
     "output_type": "display_data"
    }
   ],
   "source": [
    "ax = joint_prices['Close_OD'].plot()\n",
    "ax.set_ylabel(\"OpenData Close price\")\n",
    "ax1 = ax.twinx()\n",
    "joint_prices['Close Price_REF'].plot(ax=ax1,color='r')\n",
    "ax1.set_ylabel(\"Refinitiv Close price\")\n"
   ]
  },
  {
   "cell_type": "code",
   "execution_count": 10,
   "metadata": {},
   "outputs": [
    {
     "name": "stdout",
     "output_type": "stream",
     "text": [
      "Number of nulls\n"
     ]
    },
    {
     "data": {
      "text/plain": [
       "Open_OD                   878\n",
       "High_OD                   878\n",
       "Low_OD                    878\n",
       "Close_OD                  878\n",
       "Adjusted_close_OD         878\n",
       "Volume_OD                 878\n",
       "Open Price_REF             10\n",
       "High Price_REF             10\n",
       "Low Price_REF              10\n",
       "Close Price_REF            10\n",
       "Accumulated Volume_REF     10\n",
       "dtype: int64"
      ]
     },
     "execution_count": 10,
     "metadata": {},
     "output_type": "execute_result"
    }
   ],
   "source": [
    "print(\"Number of nulls\")\n",
    "joint_prices.isna().sum()"
   ]
  },
  {
   "cell_type": "code",
   "execution_count": 11,
   "metadata": {},
   "outputs": [
    {
     "name": "stdout",
     "output_type": "stream",
     "text": [
      "\n",
      "Nulls on the same date:\n"
     ]
    },
    {
     "data": {
      "text/plain": [
       "0"
      ]
     },
     "execution_count": 11,
     "metadata": {},
     "output_type": "execute_result"
    }
   ],
   "source": [
    "print(\"\\nNulls on the same date:\")\n",
    "joint_prices.isna().all(axis=1).sum() "
   ]
  },
  {
   "cell_type": "markdown",
   "metadata": {},
   "source": [
    "Let's impute prices using pct change"
   ]
  },
  {
   "cell_type": "code",
   "execution_count": 12,
   "metadata": {},
   "outputs": [],
   "source": [
    "OD_p =joint_prices[['Open_OD','High_OD','Low_OD','Close_OD']] \n",
    "REF_p = joint_prices[['Open Price_REF','High Price_REF','Low Price_REF','Close Price_REF']]"
   ]
  },
  {
   "cell_type": "code",
   "execution_count": 13,
   "metadata": {},
   "outputs": [],
   "source": [
    "impute_val = (OD_p.isna()*(~OD_p.isna()).shift(1)).fillna(0)\n",
    "for c_OD,c_REF in zip(impute_val.columns,REF_p.columns):\n",
    "    joint_prices[c_OD+\"_adj\"] = joint_prices[c_OD]\n",
    "    pct_chng = (1 + REF_p[c_REF].pct_change())*(OD_p[c_OD]).shift(1)\n",
    "    joint_prices.loc[impute_val[c_OD]==1,c_OD+\"_adj\"] = pct_chng[impute_val[c_OD]==1]\n"
   ]
  },
  {
   "cell_type": "code",
   "execution_count": 14,
   "metadata": {},
   "outputs": [],
   "source": [
    "impute_val = (REF_p.isna()*(~REF_p.isna()).shift(1)).fillna(0)\n",
    "for c_REF,c_OD in zip(impute_val.columns,OD_p.columns):\n",
    "    joint_prices[c_REF+\"_adj\"] = joint_prices[c_REF]\n",
    "    pct_chng = (1 + OD_p[c_OD].pct_change())*(REF_p[c_REF]).shift(1)\n",
    "    joint_prices.loc[impute_val[c_REF]==1,c_REF+\"_adj\"] = pct_chng[impute_val[c_REF]==1]\n"
   ]
  },
  {
   "cell_type": "markdown",
   "metadata": {},
   "source": [
    "## Extracting webdata"
   ]
  },
  {
   "cell_type": "code",
   "execution_count": 15,
   "metadata": {},
   "outputs": [
    {
     "name": "stderr",
     "output_type": "stream",
     "text": [
      "/Users/jonny/anaconda/envs/py36/lib/python3.6/site-packages/ipykernel_launcher.py:8: SettingWithCopyWarning: \n",
      "A value is trying to be set on a copy of a slice from a DataFrame.\n",
      "Try using .loc[row_indexer,col_indexer] = value instead\n",
      "\n",
      "See the caveats in the documentation: http://pandas.pydata.org/pandas-docs/stable/indexing.html#indexing-view-versus-copy\n",
      "  \n"
     ]
    }
   ],
   "source": [
    "web_map = ticker_map.parse('Domains').set_index('Ticker')['Domain']\n",
    "site_list = web_map[web_map.index==ticker['web_str']].tolist()\n",
    "\n",
    "#replace with ticker\n",
    "asos_web = webdata[webdata['site'].isin(site_list)]\n",
    "asos_web['dates'] = pd.to_datetime(asos_web['day'].astype(str)+\"-\"+\n",
    "                                   asos_web['month'].astype(str)+\"-\"+\n",
    "                                   asos_web['year'].astype(str),format=\"%d-%m-%y\")\n",
    "asos_web = asos_web.set_index('dates')"
   ]
  },
  {
   "cell_type": "code",
   "execution_count": 16,
   "metadata": {},
   "outputs": [],
   "source": [
    "asos_group = asos_web.groupby(['dates','site','country'])\n",
    "#asos_group['total_visits'].plot(legend=True,figsize=(14,7));\n",
    "#plt.legend(loc=\"upper left\", bbox_to_anchor=(1,1))\n",
    "cols2wavg = ['desktop_visit_duration','desktop_bounce_rate']"
   ]
  },
  {
   "cell_type": "markdown",
   "metadata": {},
   "source": [
    "creating new indices for webdata "
   ]
  },
  {
   "cell_type": "code",
   "execution_count": 17,
   "metadata": {},
   "outputs": [],
   "source": [
    "asos_group = asos_web.groupby(['dates'])"
   ]
  },
  {
   "cell_type": "code",
   "execution_count": 18,
   "metadata": {},
   "outputs": [],
   "source": [
    "#SHOULD BE SUMMED\n",
    "\n",
    "def wm_desk(x):\n",
    "    return np.sum(x*(asos_group.get_group(x.name)['desktop_page_views']/asos_group.get_group(x.name)['desktop_page_views'].sum()))\n",
    "\n",
    "def wm_mob(x):\n",
    "    return np.sum(x*(asos_group.get_group(x.name)['mobile_page_views']/asos_group.get_group(x.name)['mobile_page_views'].sum()))\n",
    "\n",
    "#wm_desk = lambda x: sum(x*(asos_group.get_group(x.name)['desktop_page_views']/asos_group.get_group(x.name)['desktop_page_views'].sum()))\n",
    "#wm_mob = lambda x: sum(x*(asos_group.get_group(x.name)['mobile_page_views']/asos_group.get_group(x.name)['mobile_page_views'].sum()))"
   ]
  },
  {
   "cell_type": "code",
   "execution_count": 19,
   "metadata": {},
   "outputs": [
    {
     "name": "stderr",
     "output_type": "stream",
     "text": [
      "/Users/jonny/anaconda/envs/py36/lib/python3.6/site-packages/pandas/core/groupby/groupby.py:4656: FutureWarning: using a dict with renaming is deprecated and will be removed in a future version\n",
      "  return super(DataFrameGroupBy, self).aggregate(arg, *args, **kwargs)\n"
     ]
    }
   ],
   "source": [
    "agg_rules = {'desktop_page_views':'sum',\n",
    "             'desktop_visit_duration':{'weighted_mean':wm_desk},\n",
    "             'desktop_bounce_rate':{'weighted_mean':wm_desk},\n",
    "             'mobile_page_views':'sum',\n",
    "             'mobile_visit_duration':{'weighted_mean':wm_mob},\n",
    "             'mobile_bounce_rate':{'weighted_mean':wm_mob}\n",
    "            }\n",
    "        \n",
    "asos_web_adj = asos_group.agg(agg_rules)\n",
    "#flatten multi-index\n",
    "asos_web_adj.columns = [c[0]+\"_\"+c[1] for c in asos_web_adj.columns]"
   ]
  },
  {
   "cell_type": "markdown",
   "metadata": {},
   "source": [
    "add in indices"
   ]
  },
  {
   "cell_type": "code",
   "execution_count": 20,
   "metadata": {},
   "outputs": [],
   "source": [
    "asos_web_adj['composite_web_idx'] = asos_web_adj['desktop_page_views_sum']*(1-asos_web_adj['desktop_bounce_rate_weighted_mean'])\\\n",
    "                                    *asos_web_adj['desktop_visit_duration_weighted_mean']\n",
    "\n",
    "asos_web_adj['mobile_web_idx'] = asos_web_adj['mobile_page_views_sum']*(1-asos_web_adj['mobile_bounce_rate_weighted_mean'])\\\n",
    "                                    *asos_web_adj['mobile_visit_duration_weighted_mean']"
   ]
  },
  {
   "cell_type": "markdown",
   "metadata": {},
   "source": [
    "## App data"
   ]
  },
  {
   "cell_type": "code",
   "execution_count": 21,
   "metadata": {},
   "outputs": [],
   "source": [
    "appdata['dates'] = pd.to_datetime(appdata['day'].astype(str)+\"-\"+\n",
    "                                   appdata['month'].astype(str)+\"-\"+\n",
    "                                   appdata['year'].astype(str),format=\"%d-%m-%y\")\n",
    "appdata = appdata.set_index('dates')\n",
    "app_map = ticker_map.parse('Apps').set_index('Ticker')['App ID']\n",
    "app_list = app_map[app_map.index==ticker['web_str']].tolist()\n",
    "asos_app = appdata[appdata['app'].isin(app_list)]"
   ]
  },
  {
   "cell_type": "code",
   "execution_count": 22,
   "metadata": {},
   "outputs": [
    {
     "data": {
      "text/plain": [
       "<matplotlib.axes._subplots.AxesSubplot at 0x25c3ee438>"
      ]
     },
     "execution_count": 22,
     "metadata": {},
     "output_type": "execute_result"
    },
    {
     "data": {
      "image/png": "[encoded data removed]",
      "text/plain": [
       "<Figure size 432x288 with 1 Axes>"
      ]
     },
     "metadata": {
      "needs_background": "light"
     },
     "output_type": "display_data"
    },
    {
     "data": {
      "image/png": "[encoded data removed]",
      "text/plain": [
       "<Figure size 432x288 with 1 Axes>"
      ]
     },
     "metadata": {
      "needs_background": "light"
     },
     "output_type": "display_data"
    }
   ],
   "source": [
    "asos_app.groupby('dates').agg({'daily_active_users':'mean'}).plot()\n",
    "asos_app.groupby('dates').agg({'downloads':'mean'}).plot()"
   ]
  },
  {
   "cell_type": "markdown",
   "metadata": {},
   "source": [
    "current_install = current installs is an average for each day? \n",
    "downloads = number of downloads\n",
    "usage_time = seconds/minutes/hours?\n",
    "usage_penetration = number of devices with app installed/ Total number of devices\n",
    "open_rate = number of devices used to access app / number of devices with app installed "
   ]
  },
  {
   "cell_type": "code",
   "execution_count": 23,
   "metadata": {},
   "outputs": [],
   "source": [
    "agg_rules = {'current_installs':'mean',\n",
    "            'downloads':'sum',\n",
    "            'usage_time':'sum',\n",
    "            'average_sessions_per_user':'mean',\n",
    "            'daily_active_users':'sum',\n",
    "            'usage_penetration':'mean',\n",
    "            'open_rate':'mean'}\n",
    "\n",
    "\n",
    "asos_app_group = asos_app.groupby(['dates','country_name'])\n",
    "asos_app_agg = asos_app_group.agg(agg_rules)"
   ]
  },
  {
   "cell_type": "code",
   "execution_count": 24,
   "metadata": {},
   "outputs": [],
   "source": [
    "asos_app_agg['country_panel']= asos_app_agg['daily_active_users']/asos_app_agg['usage_penetration']"
   ]
  },
  {
   "cell_type": "code",
   "execution_count": 25,
   "metadata": {},
   "outputs": [],
   "source": [
    "asos_app_agg['company_panel'] = asos_app_agg['daily_active_users']/asos_app_agg['open_rate']"
   ]
  },
  {
   "cell_type": "code",
   "execution_count": 26,
   "metadata": {},
   "outputs": [],
   "source": [
    "def impute_val(x,window=15):\n",
    "    x = x.fillna(method='ffill').rolling(window=window).mean()\n",
    "    x = x.fillna(method='ffill')\n",
    "    return x\n",
    "\n",
    "\n",
    "\n",
    "asos_app_agg[['country_panel','company_panel']] =  asos_app_agg.groupby(['country_name'])[['country_panel','company_panel']].apply(lambda x:impute_val(x))\n"
   ]
  },
  {
   "cell_type": "code",
   "execution_count": 27,
   "metadata": {},
   "outputs": [
    {
     "data": {
      "text/html": [
       "<div>\n",
       "<style scoped>\n",
       "    .dataframe tbody tr th:only-of-type {\n",
       "        vertical-align: middle;\n",
       "    }\n",
       "\n",
       "    .dataframe tbody tr th {\n",
       "        vertical-align: top;\n",
       "    }\n",
       "\n",
       "    .dataframe thead th {\n",
       "        text-align: right;\n",
       "    }\n",
       "</style>\n",
       "<table border=\"1\" class=\"dataframe\">\n",
       "  <thead>\n",
       "    <tr style=\"text-align: right;\">\n",
       "      <th></th>\n",
       "      <th></th>\n",
       "      <th>current_installs</th>\n",
       "      <th>downloads</th>\n",
       "      <th>usage_time</th>\n",
       "      <th>average_sessions_per_user</th>\n",
       "      <th>daily_active_users</th>\n",
       "      <th>usage_penetration</th>\n",
       "      <th>open_rate</th>\n",
       "      <th>country_panel</th>\n",
       "      <th>company_panel</th>\n",
       "    </tr>\n",
       "    <tr>\n",
       "      <th>dates</th>\n",
       "      <th>country_name</th>\n",
       "      <th></th>\n",
       "      <th></th>\n",
       "      <th></th>\n",
       "      <th></th>\n",
       "      <th></th>\n",
       "      <th></th>\n",
       "      <th></th>\n",
       "      <th></th>\n",
       "      <th></th>\n",
       "    </tr>\n",
       "  </thead>\n",
       "  <tbody>\n",
       "    <tr>\n",
       "      <th rowspan=\"5\" valign=\"top\">2019-07-31</th>\n",
       "      <th>Mexico</th>\n",
       "      <td>0.000004</td>\n",
       "      <td>0.0</td>\n",
       "      <td>0.000000</td>\n",
       "      <td>0.000000</td>\n",
       "      <td>0.0</td>\n",
       "      <td>0.000000e+00</td>\n",
       "      <td>0.000000</td>\n",
       "      <td>1.075610e+08</td>\n",
       "      <td>1194.636327</td>\n",
       "    </tr>\n",
       "    <tr>\n",
       "      <th>Netherlands</th>\n",
       "      <td>0.000118</td>\n",
       "      <td>0.0</td>\n",
       "      <td>0.000000</td>\n",
       "      <td>0.000000</td>\n",
       "      <td>0.0</td>\n",
       "      <td>0.000000e+00</td>\n",
       "      <td>0.000000</td>\n",
       "      <td>1.491324e+07</td>\n",
       "      <td>6471.688823</td>\n",
       "    </tr>\n",
       "    <tr>\n",
       "      <th>Russia</th>\n",
       "      <td>0.000007</td>\n",
       "      <td>0.0</td>\n",
       "      <td>0.000000</td>\n",
       "      <td>0.000000</td>\n",
       "      <td>0.0</td>\n",
       "      <td>0.000000e+00</td>\n",
       "      <td>0.000000</td>\n",
       "      <td>5.906977e+07</td>\n",
       "      <td>605.338418</td>\n",
       "    </tr>\n",
       "    <tr>\n",
       "      <th>United Kingdom</th>\n",
       "      <td>0.001989</td>\n",
       "      <td>1766.0</td>\n",
       "      <td>0.087558</td>\n",
       "      <td>8.688550</td>\n",
       "      <td>22713.0</td>\n",
       "      <td>2.453500e-04</td>\n",
       "      <td>0.125700</td>\n",
       "      <td>9.257266e+07</td>\n",
       "      <td>220665.942374</td>\n",
       "    </tr>\n",
       "    <tr>\n",
       "      <th>United States</th>\n",
       "      <td>0.000156</td>\n",
       "      <td>1317.0</td>\n",
       "      <td>0.025914</td>\n",
       "      <td>13.998425</td>\n",
       "      <td>128.0</td>\n",
       "      <td>2.750000e-07</td>\n",
       "      <td>0.001125</td>\n",
       "      <td>4.878206e+08</td>\n",
       "      <td>81110.691967</td>\n",
       "    </tr>\n",
       "  </tbody>\n",
       "</table>\n",
       "</div>"
      ],
      "text/plain": [
       "                           current_installs  downloads  usage_time  \\\n",
       "dates      country_name                                              \n",
       "2019-07-31 Mexico                  0.000004        0.0    0.000000   \n",
       "           Netherlands             0.000118        0.0    0.000000   \n",
       "           Russia                  0.000007        0.0    0.000000   \n",
       "           United Kingdom          0.001989     1766.0    0.087558   \n",
       "           United States           0.000156     1317.0    0.025914   \n",
       "\n",
       "                           average_sessions_per_user  daily_active_users  \\\n",
       "dates      country_name                                                    \n",
       "2019-07-31 Mexico                           0.000000                 0.0   \n",
       "           Netherlands                      0.000000                 0.0   \n",
       "           Russia                           0.000000                 0.0   \n",
       "           United Kingdom                   8.688550             22713.0   \n",
       "           United States                   13.998425               128.0   \n",
       "\n",
       "                           usage_penetration  open_rate  country_panel  \\\n",
       "dates      country_name                                                  \n",
       "2019-07-31 Mexico               0.000000e+00   0.000000   1.075610e+08   \n",
       "           Netherlands          0.000000e+00   0.000000   1.491324e+07   \n",
       "           Russia               0.000000e+00   0.000000   5.906977e+07   \n",
       "           United Kingdom       2.453500e-04   0.125700   9.257266e+07   \n",
       "           United States        2.750000e-07   0.001125   4.878206e+08   \n",
       "\n",
       "                           company_panel  \n",
       "dates      country_name                   \n",
       "2019-07-31 Mexico            1194.636327  \n",
       "           Netherlands       6471.688823  \n",
       "           Russia             605.338418  \n",
       "           United Kingdom  220665.942374  \n",
       "           United States    81110.691967  "
      ]
     },
     "execution_count": 27,
     "metadata": {},
     "output_type": "execute_result"
    }
   ],
   "source": [
    "asos_app_agg.tail()"
   ]
  },
  {
   "cell_type": "code",
   "execution_count": 28,
   "metadata": {},
   "outputs": [],
   "source": [
    "asos_app_group = asos_app_agg.groupby(['dates'])"
   ]
  },
  {
   "cell_type": "code",
   "execution_count": 29,
   "metadata": {},
   "outputs": [],
   "source": [
    "def country_company_wm(x):\n",
    "\n",
    "    #grp_name = tuple([x.index.get_level_values(int(i))[0] for i in range(len(x.index.levels))])\n",
    "    grp_name = x.name\n",
    "    grp = asos_app_group.get_group(grp_name)\n",
    "\n",
    "    country_weight = grp['country_panel']/grp['country_panel'].sum()\n",
    "    company_weight = grp['company_panel']/grp['company_panel'].sum()\n",
    "    return np.sum(x*country_weight*company_weight)\n",
    "    \n",
    "wm_adj = country_company_wm"
   ]
  },
  {
   "cell_type": "code",
   "execution_count": 30,
   "metadata": {},
   "outputs": [],
   "source": [
    "agg_rules = {'current_installs':wm_adj,\n",
    "            'downloads':'sum',\n",
    "            'usage_time':wm_adj,\n",
    "            'average_sessions_per_user':'mean',\n",
    "            'daily_active_users':'sum',\n",
    "            'usage_penetration':wm_adj,\n",
    "            'open_rate':wm_adj,\n",
    "            'country_panel':'sum',\n",
    "            'company_panel':'sum'}"
   ]
  },
  {
   "cell_type": "code",
   "execution_count": 31,
   "metadata": {},
   "outputs": [],
   "source": [
    "asos_app_adj = asos_app_group.agg(agg_rules)"
   ]
  },
  {
   "cell_type": "code",
   "execution_count": 32,
   "metadata": {},
   "outputs": [
    {
     "data": {
      "text/html": [
       "<div>\n",
       "<style scoped>\n",
       "    .dataframe tbody tr th:only-of-type {\n",
       "        vertical-align: middle;\n",
       "    }\n",
       "\n",
       "    .dataframe tbody tr th {\n",
       "        vertical-align: top;\n",
       "    }\n",
       "\n",
       "    .dataframe thead th {\n",
       "        text-align: right;\n",
       "    }\n",
       "</style>\n",
       "<table border=\"1\" class=\"dataframe\">\n",
       "  <thead>\n",
       "    <tr style=\"text-align: right;\">\n",
       "      <th></th>\n",
       "      <th>current_installs</th>\n",
       "      <th>downloads</th>\n",
       "      <th>usage_time</th>\n",
       "      <th>average_sessions_per_user</th>\n",
       "      <th>daily_active_users</th>\n",
       "      <th>usage_penetration</th>\n",
       "      <th>open_rate</th>\n",
       "      <th>country_panel</th>\n",
       "      <th>company_panel</th>\n",
       "    </tr>\n",
       "    <tr>\n",
       "      <th>dates</th>\n",
       "      <th></th>\n",
       "      <th></th>\n",
       "      <th></th>\n",
       "      <th></th>\n",
       "      <th></th>\n",
       "      <th></th>\n",
       "      <th></th>\n",
       "      <th></th>\n",
       "      <th></th>\n",
       "    </tr>\n",
       "  </thead>\n",
       "  <tbody>\n",
       "    <tr>\n",
       "      <th>2016-06-01</th>\n",
       "      <td>0.0</td>\n",
       "      <td>984.0</td>\n",
       "      <td>0.0</td>\n",
       "      <td>2.089200</td>\n",
       "      <td>3824.0</td>\n",
       "      <td>0.0</td>\n",
       "      <td>0.0</td>\n",
       "      <td>0.0</td>\n",
       "      <td>0.0</td>\n",
       "    </tr>\n",
       "    <tr>\n",
       "      <th>2016-06-02</th>\n",
       "      <td>0.0</td>\n",
       "      <td>1055.0</td>\n",
       "      <td>0.0</td>\n",
       "      <td>0.996700</td>\n",
       "      <td>3035.0</td>\n",
       "      <td>0.0</td>\n",
       "      <td>0.0</td>\n",
       "      <td>0.0</td>\n",
       "      <td>0.0</td>\n",
       "    </tr>\n",
       "    <tr>\n",
       "      <th>2016-06-03</th>\n",
       "      <td>0.0</td>\n",
       "      <td>1106.0</td>\n",
       "      <td>0.0</td>\n",
       "      <td>0.790633</td>\n",
       "      <td>3144.0</td>\n",
       "      <td>0.0</td>\n",
       "      <td>0.0</td>\n",
       "      <td>0.0</td>\n",
       "      <td>0.0</td>\n",
       "    </tr>\n",
       "    <tr>\n",
       "      <th>2016-06-04</th>\n",
       "      <td>0.0</td>\n",
       "      <td>1838.0</td>\n",
       "      <td>0.0</td>\n",
       "      <td>0.831457</td>\n",
       "      <td>2420.0</td>\n",
       "      <td>0.0</td>\n",
       "      <td>0.0</td>\n",
       "      <td>0.0</td>\n",
       "      <td>0.0</td>\n",
       "    </tr>\n",
       "    <tr>\n",
       "      <th>2016-06-05</th>\n",
       "      <td>0.0</td>\n",
       "      <td>1034.0</td>\n",
       "      <td>0.0</td>\n",
       "      <td>0.599733</td>\n",
       "      <td>3402.0</td>\n",
       "      <td>0.0</td>\n",
       "      <td>0.0</td>\n",
       "      <td>0.0</td>\n",
       "      <td>0.0</td>\n",
       "    </tr>\n",
       "  </tbody>\n",
       "</table>\n",
       "</div>"
      ],
      "text/plain": [
       "            current_installs  downloads  usage_time  \\\n",
       "dates                                                 \n",
       "2016-06-01               0.0      984.0         0.0   \n",
       "2016-06-02               0.0     1055.0         0.0   \n",
       "2016-06-03               0.0     1106.0         0.0   \n",
       "2016-06-04               0.0     1838.0         0.0   \n",
       "2016-06-05               0.0     1034.0         0.0   \n",
       "\n",
       "            average_sessions_per_user  daily_active_users  usage_penetration  \\\n",
       "dates                                                                          \n",
       "2016-06-01                   2.089200              3824.0                0.0   \n",
       "2016-06-02                   0.996700              3035.0                0.0   \n",
       "2016-06-03                   0.790633              3144.0                0.0   \n",
       "2016-06-04                   0.831457              2420.0                0.0   \n",
       "2016-06-05                   0.599733              3402.0                0.0   \n",
       "\n",
       "            open_rate  country_panel  company_panel  \n",
       "dates                                                \n",
       "2016-06-01        0.0            0.0            0.0  \n",
       "2016-06-02        0.0            0.0            0.0  \n",
       "2016-06-03        0.0            0.0            0.0  \n",
       "2016-06-04        0.0            0.0            0.0  \n",
       "2016-06-05        0.0            0.0            0.0  "
      ]
     },
     "execution_count": 32,
     "metadata": {},
     "output_type": "execute_result"
    }
   ],
   "source": [
    "asos_app_adj.head()\n",
    "#recall rolling average of 15 day is used"
   ]
  },
  {
   "cell_type": "markdown",
   "metadata": {},
   "source": [
    "### Extract estimates"
   ]
  },
  {
   "cell_type": "code",
   "execution_count": 33,
   "metadata": {},
   "outputs": [],
   "source": [
    "def extract_estimates(df,ticker):\n",
    "    df = df[df['Instrument'] ==ticker][[col for col in df if col != \"Instrument\"]]\n",
    "    df['Date'] = pd.to_datetime(df['Date'],format='%Y/%m/%d').dt.date\n",
    "    #df['Date Actual'] = pd.to_datetime(df['Date Actual'],yearfirst=True)\n",
    "    \n",
    "    df_estimate = pd.DataFrame()\n",
    "\n",
    "    est_exclude = ['Actual Value','Date Actual','Estimate']\n",
    "    for name,g in df.groupby('Estimate'):\n",
    "    \n",
    "        g = g.set_index('Date')\n",
    "        g = g[[col for col in g.columns if col not in est_exclude]]\n",
    "        col_dict = {col:col+\"_\"+name for col in g.columns}\n",
    "\n",
    "        g = g.rename(columns = col_dict)\n",
    "        df_estimate = df_estimate.join(g,how='outer')\n",
    "        \n",
    "    return df_estimate\n",
    "    "
   ]
  },
  {
   "cell_type": "code",
   "execution_count": 34,
   "metadata": {},
   "outputs": [],
   "source": [
    "asos_estimate = extract_estimates(estimates,ticker['estimate_str'])"
   ]
  },
  {
   "cell_type": "code",
   "execution_count": 35,
   "metadata": {},
   "outputs": [],
   "source": [
    "final_df = joint_prices.join(asos_web_adj,how='outer').join(asos_app_adj,how='outer').join(asos_estimate,how='outer')\n",
    "final_df.index.names = ['dates']"
   ]
  },
  {
   "cell_type": "code",
   "execution_count": 36,
   "metadata": {},
   "outputs": [],
   "source": [
    "final_df.to_csv(r\"{}_cln.csv\".format(t_key))"
   ]
  },
  {
   "cell_type": "code",
   "execution_count": null,
   "metadata": {},
   "outputs": [],
   "source": []
  }
 ],
 "metadata": {
  "kernelspec": {
   "display_name": "Python 3",
   "language": "python",
   "name": "python3"
  },
  "language_info": {
   "codemirror_mode": {
    "name": "ipython",
    "version": 3
   },
   "file_extension": ".py",
   "mimetype": "text/x-python",
   "name": "python",
   "nbconvert_exporter": "python",
   "pygments_lexer": "ipython3",
   "version": "3.6.7"
  },
  "varInspector": {
   "cols": {
    "lenName": 16,
    "lenType": 16,
    "lenVar": 40
   },
   "kernels_config": {
    "python": {
     "delete_cmd_postfix": "",
     "delete_cmd_prefix": "del ",
     "library": "var_list.py",
     "varRefreshCmd": "print(var_dic_list())"
    },
    "r": {
     "delete_cmd_postfix": ") ",
     "delete_cmd_prefix": "rm(",
     "library": "var_list.r",
     "varRefreshCmd": "cat(var_dic_list()) "
    }
   },
   "types_to_exclude": [
    "module",
    "function",
    "builtin_function_or_method",
    "instance",
    "_Feature"
   ],
   "window_display": false
  }
 },
 "nbformat": 4,
 "nbformat_minor": 2
}
